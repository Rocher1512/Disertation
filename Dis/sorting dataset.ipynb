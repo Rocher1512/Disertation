{
 "cells": [
  {
   "cell_type": "code",
   "execution_count": 12,
   "id": "enabling-customs",
   "metadata": {},
   "outputs": [
    {
     "name": "stdout",
     "output_type": "stream",
     "text": [
      "72.97\n",
      "71.09\n",
      "75.89\n",
      "89\n",
      "57\n",
      "83\n",
      "56\n",
      "96\n",
      "58\n"
     ]
    }
   ],
   "source": [
    "import pandas as pd\n",
    "data = pd.read_csv(\"All_of_them_4_13_2021.csv\")\n",
    "data\n",
    "avgemci = 0\n",
    "avglmci = 0\n",
    "avgcn = 0\n",
    "highemci = 0\n",
    "lowemci= 100\n",
    "highlmci = 0\n",
    "lowlmci= 100\n",
    "highcn = 0\n",
    "lowcn= 100\n",
    "for i in range(599):\n",
    "    if(data[\"Group\"][i] == \"LMCI\"):\n",
    "        avgemci +=  data[\"Age\"][i]\n",
    "        if(data[\"Age\"][i] > highlmci):\n",
    "            highlmci = data[\"Age\"][i]\n",
    "        if(data[\"Age\"][i] < lowlmci):\n",
    "            lowlmci = data[\"Age\"][i]\n",
    "    if(data[\"Group\"][i] == \"EMCI\"):\n",
    "        avglmci +=  data[\"Age\"][i]\n",
    "        if(data[\"Age\"][i] > highemci):\n",
    "            highemci = data[\"Age\"][i]\n",
    "        if(data[\"Age\"][i] < lowemci):\n",
    "            lowemci = data[\"Age\"][i]\n",
    "    if(data[\"Group\"][i] == \"CN\"):\n",
    "        avgcn +=  data[\"Age\"][i]\n",
    "        if(data[\"Age\"][i] > highcn):\n",
    "            highcn = data[\"Age\"][i]\n",
    "        if(data[\"Age\"][i] < lowcn):\n",
    "            lowcn = data[\"Age\"][i]\n",
    "print(avgemci/200)\n",
    "print(avglmci/200)\n",
    "print(avgcn/200)\n",
    "\n",
    "print(highlmci)\n",
    "print(lowlmci)\n",
    "print(highemci)\n",
    "print(lowemci)\n",
    "print(highcn)\n",
    "print(lowcn)\n"
   ]
  },
  {
   "cell_type": "code",
   "execution_count": null,
   "id": "marked-tender",
   "metadata": {},
   "outputs": [],
   "source": []
  }
 ],
 "metadata": {
  "kernelspec": {
   "display_name": "Python 3",
   "language": "python",
   "name": "python3"
  },
  "language_info": {
   "codemirror_mode": {
    "name": "ipython",
    "version": 3
   },
   "file_extension": ".py",
   "mimetype": "text/x-python",
   "name": "python",
   "nbconvert_exporter": "python",
   "pygments_lexer": "ipython3",
   "version": "3.7.8"
  }
 },
 "nbformat": 4,
 "nbformat_minor": 5
}
